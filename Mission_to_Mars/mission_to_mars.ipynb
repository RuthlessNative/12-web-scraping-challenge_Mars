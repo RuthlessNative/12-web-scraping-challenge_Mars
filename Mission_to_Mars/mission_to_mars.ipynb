{
 "metadata": {
  "language_info": {
   "codemirror_mode": {
    "name": "ipython",
    "version": 3
   },
   "file_extension": ".py",
   "mimetype": "text/x-python",
   "name": "python",
   "nbconvert_exporter": "python",
   "pygments_lexer": "ipython3",
   "version": "3.8.5-final"
  },
  "orig_nbformat": 2,
  "kernelspec": {
   "name": "python3",
   "display_name": "Python 3.8.5 64-bit (conda)",
   "metadata": {
    "interpreter": {
     "hash": "6e67b620515b60b5e0a41f61aaaaaa0b5713da87d04dedede882ceace4acc361"
    }
   }
  }
 },
 "nbformat": 4,
 "nbformat_minor": 2,
 "cells": [
  {
   "cell_type": "code",
   "execution_count": 65,
   "metadata": {},
   "outputs": [],
   "source": [
    "## Dependencies\n",
    "import time\n",
    "#import shutil\n",
    "import requests\n",
    "import pandas as pd\n",
    "from splinter import Browser\n",
    "#from IPython.display import Image\n",
    "from bs4 import BeautifulSoup as bs\n",
    "from webdriver_manager.chrome import ChromeDriverManager\n",
    "## Module used to connect Python with MongoDb\n",
    "import pymongo"
   ]
  },
  {
   "source": [
    "# Step 1 - Scraping"
   ],
   "cell_type": "markdown",
   "metadata": {}
  },
  {
   "source": [
    "## NASA Mars News<br/>\n",
    "1. Scrape the NASA Mars News Site (https://mars.nasa.gov/news/) and collect the latest News Title and Paragraph Text. Assign the text to variables that you can reference later."
   ],
   "cell_type": "markdown",
   "metadata": {}
  },
  {
   "cell_type": "code",
   "execution_count": 66,
   "metadata": {},
   "outputs": [
    {
     "output_type": "stream",
     "name": "stderr",
     "text": [
      "[WDM] - ====== WebDriver manager ======\n",
      "\n",
      "\n",
      "[WDM] - Current google-chrome version is 89.0.4389\n",
      "[WDM] - Get LATEST driver version for 89.0.4389\n",
      "[WDM] - Driver [C:\\Users\\Daniel Ramirez\\.wdm\\drivers\\chromedriver\\win32\\89.0.4389.23\\chromedriver.exe] found in cache\n"
     ]
    }
   ],
   "source": [
    "## Setup splinter to open test browser\n",
    "executable_path = {'executable_path': ChromeDriverManager().install()}\n",
    "browser = Browser('chrome', **executable_path, headless=False)\n",
    "\n",
    "## Give the browser time to open properly (\"Run all cells\" only)\n",
    "time.sleep(5)"
   ]
  },
  {
   "cell_type": "code",
   "execution_count": 67,
   "metadata": {},
   "outputs": [],
   "source": [
    "## URL of page to be scraped\n",
    "url = 'https://mars.nasa.gov/news/'\n",
    "   \n",
    "## Opens test Chrome browser\n",
    "browser.visit(url)\n",
    "   \n",
    "## Allow page to fully load (\"Run all cells\" only)\n",
    "time.sleep(15)"
   ]
  },
  {
   "cell_type": "code",
   "execution_count": 68,
   "metadata": {},
   "outputs": [],
   "source": [
    "### Scrape page into Soup:\n",
    "\n",
    "## Create HTML object\n",
    "html = browser.html\n",
    "\n",
    "## Create BeautifulSoup object; parse with 'html.parser'\n",
    "soup = bs(html, 'html.parser')"
   ]
  },
  {
   "cell_type": "code",
   "execution_count": 69,
   "metadata": {},
   "outputs": [],
   "source": [
    "### Examine the results, then determine element that contains sought info. The original webpage may also be inspected on a browser\n",
    "#print(soup.prettify())"
   ]
  },
  {
   "cell_type": "code",
   "execution_count": 70,
   "metadata": {},
   "outputs": [],
   "source": [
    "### \"content_title\" & \"article_teaser_body\" are both found under class \"list_text\"\n",
    "\n",
    "## soup.find_all results are returned as an iterable list\n",
    "ls_texts = soup.find_all(\"div\", class_=\"list_text\")\n",
    "#ls_texts"
   ]
  },
  {
   "cell_type": "code",
   "execution_count": 71,
   "metadata": {},
   "outputs": [
    {
     "output_type": "execute_result",
     "data": {
      "text/plain": [
       "<div class=\"list_text\"><div class=\"list_date\">March 17, 2021</div><div class=\"content_title\"><a href=\"/news/8892/another-first-perseverance-captures-the-sounds-of-driving-on-mars/\" target=\"_self\">Another First: Perseverance Captures the Sounds of Driving on Mars</a></div><div class=\"article_teaser_body\">NASA’s newest rover recorded audio of itself crunching over the surface of the Red Planet, adding a whole new dimension to Mars exploration.</div></div>"
      ]
     },
     "metadata": {},
     "execution_count": 71
    }
   ],
   "source": [
    "## Get the first item in ls_texts\n",
    "ls_texts[0]"
   ]
  },
  {
   "cell_type": "code",
   "execution_count": 72,
   "metadata": {},
   "outputs": [
    {
     "output_type": "stream",
     "name": "stdout",
     "text": [
      "-------------\nAnother First: Perseverance Captures the Sounds of Driving on Mars: \nNASA’s newest rover recorded audio of itself crunching over the surface of the Red Planet, adding a whole new dimension to Mars exploration.\n-------------\nNASA to Host Briefing to Preview First Mars Helicopter Flights: \nMembers of the projects will lay out the steps necessary before the helicopter attempts its historic test flights. \n-------------\nNew Study Challenges Long-Held Theory of Fate of Mars' Water: \nThe new science results indicate that a large quantity of the Red Planet’s water is trapped in its crust rather than having escaped into space.\n-------------\nNASA's Perseverance Mars Rover Mission Honors Navajo Language: \nWorking with the Navajo Nation, the rover team has named features on Mars with words from the Navajo language.\n-------------\nPerseverance Rover's SuperCam Science Instrument Delivers First Results: \nData from the powerful science tool includes sounds of its laser zapping a rock in order to test what it’s made of.\n-------------\nNASA's Perseverance Drives on Mars' Terrain for First Time: \nThe first trek of the agency’s largest, most advanced rover yet on the Red Planet marks a major milestone before science operations get under way.\n-------------\nMedia Telecon Materials - March 5, 2021: \nMission team members are participating in a virtual teleconference to discuss milestones achieved so far since the Feb. 18 landing and those to come.\n-------------\nNASA Awards Mars Ascent Propulsion System Contract for Sample Return: \nThe award moves NASA and ESA a step closer to realizing Mars Sample Return, an ambitious planetary exploration program that will build upon decades of science, knowledge, and experience.\n-------------\nNASA to Provide Update on Perseverance ‘Firsts' Since Mars Landing : \nMission team members are participating in a virtual teleconference to discuss milestones achieved so far since the Feb. 18 landing and those to come.\n-------------\nTesting Proves Its Worth With Successful Mars Parachute Deployment: \nThe giant canopy that helped land Perseverance on Mars was tested here on Earth at NASA’s Wallops Flight Facility in Virginia.\n-------------\nNASA's Perseverance Rover Gives High-Definition Panoramic View of Landing Site: \nA 360-degree panorama taken by the rover’s Mastcam-Z instrument will be discussed during a public video chat this Thursday.\n-------------\nNearly 11 Million Names of Earthlings are on Mars Perseverance: \nWhen the Perseverance rover safely touched down on the Martian surface, inside Jezero Crater, on Feb. 18, 2021, it was also a safe landing for the nearly 11 million names on board.\n-------------\nNASA's Mars Perseverance Rover Provides Front-Row Seat to Landing, First Audio Recording of Red Planet : \nThe agency’s newest rover captured first-of-its kind footage of its Feb. 18 touchdown and has recorded audio of Martian wind.\n\n\n-------------\nNASA to Reveal New Video, Images From Mars Perseverance Rover: \nFirst-of-its kind footage from the agency’s newest rover will be presented during a briefing this morning.\n-------------\nNASA's Mars Helicopter Reports In : \nThe technology demonstration has phoned home from where it is attached to the belly of NASA’s Perseverance rover. \n-------------\nNASA's Perseverance Rover Sends Sneak Peek of Mars Landing: \nThe six-wheeled robot’s latest data since touching down yesterday include a hi-res image captured as the rover’s jetpack lowered it to the ground.\n-------------\nTouchdown! NASA's Mars Perseverance Rover Safely Lands on Red Planet: \nThe agency’s latest and most complex mission to the Red Planet has touched down at Jezero Crater. Now it’s time to begin testing the health of the rover.  \n-------------\nSearching for Life in NASA's Perseverance Mars Samples: \nWhen the agency’s newest rover mission searches for fossilized microscopic life on the Red Planet, how will scientists know whether they’ve found it?\n-------------\nThe Mars Relay Network Connects Us to NASA's Martian Explorers: \nA tightly choreographed dance between NASA’s Deep Space Network and Mars orbiters will keep the agency’s Perseverance in touch with Earth during landing and beyond.\n-------------\nNASA's Next Mars Rover Is Ready for the Most Precise Landing Yet: \nWhat to expect when the Mars 2020 Perseverance rover arrives at the Red Planet on Feb. 18, 2021.\n-------------\nSensors Prepare to Collect Data as Perseverance Enters Mars' Atmosphere: \nTechnology will collect critical data about the harsh entry environment during Perseverance’s entry next Thursday.\n-------------\nInSight Is Meeting the Challenge of Winter on Dusty Mars: \nAs dust collects on the solar panels and winter comes to Elysium Planitia, the team is following a plan to reduce science operations in order to keep the lander safe.\n-------------\nNASA Invites Public to Share Thrill of Mars Perseverance Rover Landing: \nMark your calendars for live landing commentary, news briefings, livestreamed Q&As, virtual watch parties, student activities, and more.\n-------------\nTricky Terrain: Helping to Assure a Safe Rover Landing: \nHow two new technologies will help Perseverance, NASA’s most sophisticated rover yet, touch down onto the surface of Mars this month.\n-------------\nWhere Should Future Astronauts Land on Mars? Follow the Water: \nA new NASA paper provides the most detailed map to date of near-surface water ice on the Red Planet.\n-------------\nNASA's Perseverance Pays Off Back Home: \nEven as the Perseverance rover approaches Mars, technology on board is paying off on Earth.\n-------------\nCould the Surface of Phobos Reveal Secrets of the Martian Past?: \nThe Martian moon Phobos orbits through a stream of charged atoms and molecules that flow off the Red Planet’s atmosphere, new research shows.\n-------------\nNASA's MAVEN Continues to Advance Mars Science and Telecommunications Relay Efforts: \nWith a suite of new national and international spacecraft primed to explore the Red Planet after their arrival next month, NASA’s MAVEN mission is ready to provide support and continue its study of the Martian atmosphere.\n-------------\nNASA's Perseverance Rover 22 Days From Mars Landing: \nSeven minutes of harrowing descent to the Red Planet is in the not-so-distant future for the agency’s Mars 2020 mission.  \n-------------\n6 Things to Know About NASA's Mars Helicopter on Its Way to Mars: \nIngenuity, a technology experiment, is preparing to attempt the first powered, controlled flight on the Red Planet.\n-------------\nNASA to Host Virtual Briefing on February Perseverance Mars Rover Landing: \nNASA leadership and members of the mission will discuss the agency’s latest rover, which touches down on the Red Planet on Feb. 18.\n-------------\nNASA InSight's ‘Mole' Ends Its Journey on Mars: \nThe heat probe hasn’t been able to gain the friction it needs to dig, but the mission has been granted an extension to carry on with its other science.\n-------------\nMars 2020 Perseverance Rover to Capture Sounds From the Red Planet: \nAudio gathered by the mission may not sound quite the same on Mars as it would to our ears on Earth. A new interactive online experience lets you sample the difference.\n-------------\nNASA's Curiosity Rover Reaches Its 3,000th Day on Mars: \nAs the rover has continued to ascend Mount Sharp, it’s found distinctive benchlike rock formations.\n-------------\nCelebrate the Perseverance Rover Landing With NASA's Student Challenge: \nThe rover touches down on the Red Planet next month, and students are invited to join the excitement by designing, building, and landing their own Mars mission. NASA can help.\n-------------\nNASA Extends Exploration for Two Planetary Science Missions: \nThe missions – Juno and InSight – have each increased our understanding of our solar system, as well as spurred new sets of diverse questions.\n-------------\n7 Things to Know About the NASA Rover About to Land on Mars: \nThe Mars 2020 Perseverance rover, which has started its approach to the Red Planet, will help answer the next logical question in Mars exploration.\n-------------\nA Martian Roundtrip: NASA's Perseverance Rover Sample Tubes: \nMarvels of engineering, the rover's sample tubes must be tough enough to safely bring Red Planet samples on the long journey back to Earth in immaculate condition. \n-------------\nNASA Moves Forward With Campaign to Return Mars Samples to Earth: \nDuring this next phase, the program will mature critical technologies and make critical design decisions as well as assess industry partnerships.\n-------------\n3 Things We've Learned From NASA's Mars InSight : \nScientists are finding new mysteries since the geophysics mission landed two years ago.\n"
     ]
    }
   ],
   "source": [
    "### This For Loop returns title and paragraph text for each item in ls_texts (not needed to complete assignment)\n",
    "\n",
    "## Loop through returned results\n",
    "for text in ls_texts:\n",
    "     ## Error handling\n",
    "     try:\n",
    "         ## Identify and return title text\n",
    "         title_text = text.find('div', class_=\"content_title\").text\n",
    "         ## Identify and return paragraph text\n",
    "         p_text = text.find('div', class_='article_teaser_body').text\n",
    "\n",
    "         ## Print results only if title_text and p_text are available\n",
    "         if(title_text and p_text):\n",
    "             print('-------------')\n",
    "             print(f\"{title_text}: \")\n",
    "             print(p_text)\n",
    "             \n",
    "     except AttributeError as e:\n",
    "         print(e)"
   ]
  },
  {
   "cell_type": "code",
   "execution_count": 73,
   "metadata": {},
   "outputs": [
    {
     "output_type": "stream",
     "name": "stdout",
     "text": [
      "Another First: Perseverance Captures the Sounds of Driving on Mars: NASA’s newest rover recorded audio of itself crunching over the surface of the Red Planet, adding a whole new dimension to Mars exploration.\n"
     ]
    }
   ],
   "source": [
    "### These lines grab the title and paragraph texts of the first headline per assignment instructions\n",
    "\n",
    "## Identify and return title text\n",
    "news_title = ls_texts[0].find('div', class_=\"content_title\").text\n",
    "## Identify and return paragraph text\n",
    "news_p = ls_texts[0].find('div', class_='article_teaser_body').text\n",
    "\n",
    "print(f\"{news_title}: {news_p}\")"
   ]
  },
  {
   "cell_type": "code",
   "execution_count": 74,
   "metadata": {},
   "outputs": [],
   "source": [
    "## Close the test browser\n",
    "browser.quit()\n",
    "## Give the browser time to close properly (\"Run all cells\" only)\n",
    "time.sleep(5)"
   ]
  },
  {
   "source": [
    "## JPL Mars Space Images - Featured Image\n",
    "\n",
    "\n",
    "1. Visit the url for JPL Featured Space Image (https://data-class-jpl-space.s3.amazonaws.com/JPL_Space/index.html).\n",
    "\n",
    "2. Use splinter to navigate the site and find the image url for the current Featured Mars Image and assign the url string to a variable called featured_image_url.\n",
    "\n",
    "3. Make sure to find the image url to the full size .jpg image.\n",
    "\n",
    "4. Make sure to save a complete url string for this image."
   ],
   "cell_type": "markdown",
   "metadata": {}
  },
  {
   "cell_type": "code",
   "execution_count": 75,
   "metadata": {},
   "outputs": [
    {
     "output_type": "stream",
     "name": "stderr",
     "text": [
      "[WDM] - ====== WebDriver manager ======\n",
      "\n",
      "\n",
      "[WDM] - Current google-chrome version is 89.0.4389\n",
      "[WDM] - Get LATEST driver version for 89.0.4389\n",
      "[WDM] - Driver [C:\\Users\\Daniel Ramirez\\.wdm\\drivers\\chromedriver\\win32\\89.0.4389.23\\chromedriver.exe] found in cache\n"
     ]
    }
   ],
   "source": [
    "## Setup splinter to open test browser\n",
    "executable_path = {'executable_path': ChromeDriverManager().install()}\n",
    "browser = Browser('chrome', **executable_path, headless=False)\n",
    "\n",
    "## Give the browser time to open properly (\"Run all cells\" only)\n",
    "time.sleep(5)"
   ]
  },
  {
   "cell_type": "code",
   "execution_count": 76,
   "metadata": {},
   "outputs": [],
   "source": [
    "## URL of page to be scraped\n",
    "url = \"https://data-class-jpl-space.s3.amazonaws.com/JPL_Space/index.html\"\n",
    "\n",
    "## Opens test Chrome browser\n",
    "browser.visit(url)\n",
    "\n",
    "## Allow page to fully load (\"Run all cells\" only)\n",
    "time.sleep(15)"
   ]
  },
  {
   "cell_type": "code",
   "execution_count": 77,
   "metadata": {},
   "outputs": [],
   "source": [
    "### Design an XPATH selector to grab the featured image\n",
    " \n",
    "## Right click HTML line holding button:\n",
    "## (<button class=\"btn btn-outline-light\"> FULL IMAGE</button>) -> 'Copy' -> 'Copy Full XPath'\n",
    "## then paste below\n",
    "xpath = \"/html/body/div[1]/div/a/button\""
   ]
  },
  {
   "cell_type": "code",
   "execution_count": 78,
   "metadata": {},
   "outputs": [],
   "source": [
    "## Use splinter to Click the 'FULL IMAGE' button to bring up the full resolution image\n",
    "results = browser.find_by_xpath(xpath)\n",
    "img = results[0]\n",
    "img.click()"
   ]
  },
  {
   "cell_type": "code",
   "execution_count": 79,
   "metadata": {},
   "outputs": [],
   "source": [
    "## Scrape the browser into soup and use soup to find the full resolution image of mars\n",
    "html = browser.html\n",
    "soup = bs(html, 'html.parser')"
   ]
  },
  {
   "cell_type": "code",
   "execution_count": 80,
   "metadata": {},
   "outputs": [],
   "source": [
    "## Examine the results, then determine element that contains sought info. The original webpage may also be inspected on a browser\n",
    "#print(soup.prettify())"
   ]
  },
  {
   "cell_type": "code",
   "execution_count": 81,
   "metadata": {},
   "outputs": [
    {
     "output_type": "execute_result",
     "data": {
      "text/plain": [
       "'https://data-class-jpl-space.s3.amazonaws.com/JPL_Space/image/featured/mars3.jpg'"
      ]
     },
     "metadata": {},
     "execution_count": 81
    }
   ],
   "source": [
    "#### Save the image url to a variable called `img_url`\n",
    "## \"fancybox-image\" holds the Featured Image, \"src\" holds the url tail end\n",
    "img_url = soup.find(\"img\", class_=\"fancybox-image\")[\"src\"]\n",
    "\n",
    "featured_image_url = \"https://data-class-jpl-space.s3.amazonaws.com/JPL_Space/\" + img_url\n",
    "featured_image_url"
   ]
  },
  {
   "cell_type": "code",
   "execution_count": 82,
   "metadata": {},
   "outputs": [],
   "source": [
    "### Just for fun, not needed for assignment\n",
    "\n",
    "import shutil\n",
    "from IPython.display import Image\n",
    " \n",
    "# Use the requests library to download and save the image from the `img_url` above\n",
    "response = requests.get(featured_image_url, stream=True)\n",
    "with open('featured_img.png', 'wb') as out_file:\n",
    "    shutil.copyfileobj(response.raw, out_file)"
   ]
  },
  {
   "cell_type": "code",
   "execution_count": 83,
   "metadata": {},
   "outputs": [
    {
     "output_type": "execute_result",
     "data": {
      "text/html": "<img src=\"featured_img.png\"/>",
      "text/plain": [
       "<IPython.core.display.Image object>"
      ]
     },
     "metadata": {},
     "execution_count": 83
    }
   ],
   "source": [
    "### Just for fun, not needed for assignment\n",
    "\n",
    "# Display the image with IPython.display\n",
    "from IPython.display import Image\n",
    "Image(url='featured_img.png')"
   ]
  },
  {
   "cell_type": "code",
   "execution_count": 84,
   "metadata": {},
   "outputs": [],
   "source": [
    "## Close the test browser\n",
    "browser.quit()\n",
    "## Give the browser time to close properly (\"Run all cells\" only)\n",
    "time.sleep(5)"
   ]
  },
  {
   "source": [
    "## Mars Facts\n",
    "\n",
    "\n",
    "1. Visit the Mars Facts webpage (https://space-facts.com/mars/) and use Pandas to scrape the table containing facts about the planet including Diameter, Mass, etc.\n",
    "\n",
    "2. Use Pandas to convert the data to a HTML table string."
   ],
   "cell_type": "markdown",
   "metadata": {}
  },
  {
   "cell_type": "code",
   "execution_count": 85,
   "metadata": {},
   "outputs": [],
   "source": [
    "## Define the url\n",
    "url = \"https://space-facts.com/mars/\""
   ]
  },
  {
   "cell_type": "code",
   "execution_count": 86,
   "metadata": {},
   "outputs": [
    {
     "output_type": "execute_result",
     "data": {
      "text/plain": [
       "[                      0                              1\n",
       " 0  Equatorial Diameter:                       6,792 km\n",
       " 1       Polar Diameter:                       6,752 km\n",
       " 2                 Mass:  6.39 × 10^23 kg (0.11 Earths)\n",
       " 3                Moons:            2 (Phobos & Deimos)\n",
       " 4       Orbit Distance:       227,943,824 km (1.38 AU)\n",
       " 5         Orbit Period:           687 days (1.9 years)\n",
       " 6  Surface Temperature:                   -87 to -5 °C\n",
       " 7         First Record:              2nd millennium BC\n",
       " 8          Recorded By:           Egyptian astronomers,\n",
       "   Mars - Earth Comparison             Mars            Earth\n",
       " 0               Diameter:         6,779 km        12,742 km\n",
       " 1                   Mass:  6.39 × 10^23 kg  5.97 × 10^24 kg\n",
       " 2                  Moons:                2                1\n",
       " 3      Distance from Sun:   227,943,824 km   149,598,262 km\n",
       " 4         Length of Year:   687 Earth days      365.24 days\n",
       " 5            Temperature:     -87 to -5 °C      -88 to 58°C,\n",
       "                       0                              1\n",
       " 0  Equatorial Diameter:                       6,792 km\n",
       " 1       Polar Diameter:                       6,752 km\n",
       " 2                 Mass:  6.39 × 10^23 kg (0.11 Earths)\n",
       " 3                Moons:            2 (Phobos & Deimos)\n",
       " 4       Orbit Distance:       227,943,824 km (1.38 AU)\n",
       " 5         Orbit Period:           687 days (1.9 years)\n",
       " 6  Surface Temperature:                   -87 to -5 °C\n",
       " 7         First Record:              2nd millennium BC\n",
       " 8          Recorded By:           Egyptian astronomers]"
      ]
     },
     "metadata": {},
     "execution_count": 86
    }
   ],
   "source": [
    "## Use the `read_html` function in Pandas to automatically scrape any tabular data from a page\n",
    "tables = pd.read_html(url)\n",
    "## Show list of tables\n",
    "tables"
   ]
  },
  {
   "cell_type": "code",
   "execution_count": 87,
   "metadata": {},
   "outputs": [],
   "source": [
    " ## The table in tables[0] holds Mars data\n",
    " ## Pandas also had a `to_html` method that can be used to generate HTML tables from DataFrames\n",
    "tables[0].to_html(\"Mars_Facts.html\") # this saves the filename in the parenthesis\n",
    "\n",
    "## Save table in a variable for use in the Flask\n",
    "mars_facts = tables[0].to_html()\n",
    "\n",
    "## or just use the code below to show the results:\n",
    "#tables[0].to_html()"
   ]
  },
  {
   "source": [
    "## Mars Hemispheres\n",
    "\n",
    "1. Visit the USGS Astrogeology site (https://astrogeology.usgs.gov/search/results?q=hemisphere+enhanced&k1=target&v1=Mars) to obtain high resolution images for each of Mar's hemispheres.\n",
    "\n",
    "2. You will need to click each of the links to the hemispheres in order to find the image url to the full resolution image.\n",
    "\n",
    "3. Save both the image url string for the full resolution hemisphere image, and the Hemisphere title containing the hemisphere name. Use a Python dictionary to store the data using the keys img_url and title.\n",
    "\n",
    "4. Append the dictionary with the image url string and the hemisphere title to a list. This list will contain one dictionary for each hemisphere."
   ],
   "cell_type": "markdown",
   "metadata": {}
  },
  {
   "cell_type": "code",
   "execution_count": 88,
   "metadata": {},
   "outputs": [
    {
     "output_type": "stream",
     "name": "stderr",
     "text": [
      "[WDM] - ====== WebDriver manager ======\n",
      "[WDM] - Current google-chrome version is 89.0.4389\n",
      "[WDM] - Get LATEST driver version for 89.0.4389\n",
      "\n",
      "\n",
      "[WDM] - Driver [C:\\Users\\Daniel Ramirez\\.wdm\\drivers\\chromedriver\\win32\\89.0.4389.23\\chromedriver.exe] found in cache\n"
     ]
    }
   ],
   "source": [
    "## Setup splinter to open test browser\n",
    "executable_path = {'executable_path': ChromeDriverManager().install()}\n",
    "browser = Browser('chrome', **executable_path, headless=False)\n",
    "\n",
    "## Give the browser time to open properly (\"Run all cells\" only)\n",
    "time.sleep(5)"
   ]
  },
  {
   "cell_type": "code",
   "execution_count": 89,
   "metadata": {},
   "outputs": [],
   "source": [
    "## URL of page to be scraped\n",
    "url = \"https://astrogeology.usgs.gov/search/results?q=hemisphere+enhanced&k1=target&v1=Mars\"\n",
    "\n",
    "## Opens test Chrome browser\n",
    "browser.visit(url)\n",
    "\n",
    "## Allow page to fully load (\"Run all cells\" only)\n",
    "time.sleep(15)"
   ]
  },
  {
   "cell_type": "code",
   "execution_count": 90,
   "metadata": {},
   "outputs": [],
   "source": [
    "### Scrape page into Soup:\n",
    "\n",
    "## Create HTML object\n",
    "html = browser.html\n",
    "\n",
    "## Create BeautifulSoup object; parse with 'html.parser'\n",
    "soup = bs(html, 'html.parser')"
   ]
  },
  {
   "cell_type": "code",
   "execution_count": 91,
   "metadata": {},
   "outputs": [],
   "source": [
    "### Examine the results, then determine element that contains sought info. The original webpage may also be inspected on a browser\n",
    "#print(soup.prettify())"
   ]
  },
  {
   "cell_type": "code",
   "execution_count": 92,
   "metadata": {},
   "outputs": [
    {
     "output_type": "execute_result",
     "data": {
      "text/plain": [
       "4"
      ]
     },
     "metadata": {},
     "execution_count": 92
    }
   ],
   "source": [
    "## \"content_title\" & \"article_teaser_body\" are both found under class \"list_text\"\n",
    "\n",
    "## soup.find_all results are returned as an iterable list\n",
    "ls_hemi_results = soup.find_all(\"div\", class_=\"item\")\n",
    "len(ls_hemi_results)"
   ]
  },
  {
   "cell_type": "code",
   "execution_count": 93,
   "metadata": {},
   "outputs": [
    {
     "output_type": "stream",
     "name": "stdout",
     "text": [
      "-------------\n",
      "Cerberus Hemisphere Enhanced\n",
      "https://astrogeology.usgs.gov/search/map/Mars/Viking/cerberus_enhanced\n",
      "/cache/images/f5e372a36edfa389625da6d0cc25d905_cerberus_enhanced.tif_full.jpg\n",
      "-------------\n",
      "Schiaparelli Hemisphere Enhanced\n",
      "https://astrogeology.usgs.gov/search/map/Mars/Viking/schiaparelli_enhanced\n",
      "/cache/images/3778f7b43bbbc89d6e3cfabb3613ba93_schiaparelli_enhanced.tif_full.jpg\n",
      "-------------\n",
      "Syrtis Major Hemisphere Enhanced\n",
      "https://astrogeology.usgs.gov/search/map/Mars/Viking/syrtis_major_enhanced\n",
      "/cache/images/555e6403a6ddd7ba16ddb0e471cadcf7_syrtis_major_enhanced.tif_full.jpg\n",
      "-------------\n",
      "Valles Marineris Hemisphere Enhanced\n",
      "https://astrogeology.usgs.gov/search/map/Mars/Viking/valles_marineris_enhanced\n",
      "/cache/images/b3c7c6c9138f57b4756be9b9c43e3a48_valles_marineris_enhanced.tif_full.jpg\n"
     ]
    }
   ],
   "source": [
    "### This For Loop finds the link of each Hemisphere in ls_hemi_results, goes to that link and parses it, then finds the \"Wide-Image\" link. Hemisphere title and Wide-Image links are stored in a dictionary.BufferError\n",
    "\n",
    "url = 'https://astrogeology.usgs.gov'\n",
    "\n",
    "## Create an empty list of dictionaries\n",
    "hemisphere_image_urls = []\n",
    "\n",
    "## Loop through returned results\n",
    "for item in ls_hemi_results:\n",
    "    ## Error handling\n",
    "    try:\n",
    "        ## Identify and return Hemisphere name text\n",
    "        hemi = item.find('div', class_=\"description\").h3.text\n",
    "\n",
    "        ## Identify and return Hemisphere link\n",
    "        link_1 = url + item.a[\"href\"]\n",
    "\n",
    "        ## Go to link_1 that contains the full image link\n",
    "        browser.visit(link_1)\n",
    "\n",
    "        ## Create HTML object of the Hemiphere page\n",
    "        link_2 = browser.html\n",
    "        ## Create BeautifulSoup object; parse with 'html.parser'\n",
    "        soup = bs(link_2, \"html.parser\")\n",
    "\n",
    "        ## Identify and return Hemisphere \"Wide-Image\" file link\n",
    "        link_3 = soup.find(\"img\", class_=\"wide-image\")[\"src\"]\n",
    "\n",
    "        ## Print results only if hemi, link_1 and link_2 are available\n",
    "        if(hemi and link_1 and link_3):\n",
    "            print('-------------')\n",
    "            print(hemi)\n",
    "            print(link_1)\n",
    "            #print(link_2)\n",
    "            print(link_3)\n",
    "\n",
    "        ## Append the Hemisphere name text and \"Wide-Image\" file link to the dictionary list\n",
    "        hemisphere_image_urls.append({\"title\": hemi, \"img_url\": url + link_3})\n",
    "\n",
    "    except AttributeError as e:\n",
    "        print(e)"
   ]
  },
  {
   "cell_type": "code",
   "execution_count": 94,
   "metadata": {},
   "outputs": [
    {
     "output_type": "execute_result",
     "data": {
      "text/plain": [
       "[{'title': 'Cerberus Hemisphere Enhanced',\n",
       "  'img_url': 'https://astrogeology.usgs.gov/cache/images/f5e372a36edfa389625da6d0cc25d905_cerberus_enhanced.tif_full.jpg'},\n",
       " {'title': 'Schiaparelli Hemisphere Enhanced',\n",
       "  'img_url': 'https://astrogeology.usgs.gov/cache/images/3778f7b43bbbc89d6e3cfabb3613ba93_schiaparelli_enhanced.tif_full.jpg'},\n",
       " {'title': 'Syrtis Major Hemisphere Enhanced',\n",
       "  'img_url': 'https://astrogeology.usgs.gov/cache/images/555e6403a6ddd7ba16ddb0e471cadcf7_syrtis_major_enhanced.tif_full.jpg'},\n",
       " {'title': 'Valles Marineris Hemisphere Enhanced',\n",
       "  'img_url': 'https://astrogeology.usgs.gov/cache/images/b3c7c6c9138f57b4756be9b9c43e3a48_valles_marineris_enhanced.tif_full.jpg'}]"
      ]
     },
     "metadata": {},
     "execution_count": 94
    }
   ],
   "source": [
    "hemisphere_image_urls"
   ]
  },
  {
   "cell_type": "code",
   "execution_count": 95,
   "metadata": {},
   "outputs": [],
   "source": [
    "## Close the test browser\n",
    "browser.quit()\n",
    "## Give the browser time to close properly (\"Run all cells\" only)\n",
    "time.sleep(5)"
   ]
  },
  {
   "source": [
    "# Step 2 - MongoDB and Flask Application\n",
    "\n",
    "## Use MongoDB with Flask templating to create a new HTML page that displays all of the information that was scraped from the URLs above.\n",
    "\n",
    "1. Start by converting your Jupyter notebook into a Python script called scrape_mars.py with a function called scrape that will execute all of your scraping code from above and return one Python dictionary containing all of the scraped data."
   ],
   "cell_type": "markdown",
   "metadata": {}
  },
  {
   "cell_type": "code",
   "execution_count": 96,
   "metadata": {},
   "outputs": [
    {
     "output_type": "execute_result",
     "data": {
      "text/plain": [
       "{'News Title': 'Another First: Perseverance Captures the Sounds of Driving on Mars',\n",
       " 'News Paragraph': 'NASA’s newest rover recorded audio of itself crunching over the surface of the Red Planet, adding a whole new dimension to Mars exploration.',\n",
       " 'Featured Image': 'https://data-class-jpl-space.s3.amazonaws.com/JPL_Space/image/featured/mars3.jpg',\n",
       " 'Mars Facts': '<table border=\"1\" class=\"dataframe\">\\n  <thead>\\n    <tr style=\"text-align: right;\">\\n      <th></th>\\n      <th>0</th>\\n      <th>1</th>\\n    </tr>\\n  </thead>\\n  <tbody>\\n    <tr>\\n      <th>0</th>\\n      <td>Equatorial Diameter:</td>\\n      <td>6,792 km</td>\\n    </tr>\\n    <tr>\\n      <th>1</th>\\n      <td>Polar Diameter:</td>\\n      <td>6,752 km</td>\\n    </tr>\\n    <tr>\\n      <th>2</th>\\n      <td>Mass:</td>\\n      <td>6.39 × 10^23 kg (0.11 Earths)</td>\\n    </tr>\\n    <tr>\\n      <th>3</th>\\n      <td>Moons:</td>\\n      <td>2 (Phobos &amp; Deimos)</td>\\n    </tr>\\n    <tr>\\n      <th>4</th>\\n      <td>Orbit Distance:</td>\\n      <td>227,943,824 km (1.38 AU)</td>\\n    </tr>\\n    <tr>\\n      <th>5</th>\\n      <td>Orbit Period:</td>\\n      <td>687 days (1.9 years)</td>\\n    </tr>\\n    <tr>\\n      <th>6</th>\\n      <td>Surface Temperature:</td>\\n      <td>-87 to -5 °C</td>\\n    </tr>\\n    <tr>\\n      <th>7</th>\\n      <td>First Record:</td>\\n      <td>2nd millennium BC</td>\\n    </tr>\\n    <tr>\\n      <th>8</th>\\n      <td>Recorded By:</td>\\n      <td>Egyptian astronomers</td>\\n    </tr>\\n  </tbody>\\n</table>',\n",
       " 'Mars Hemishphere URLs': [{'title': 'Cerberus Hemisphere Enhanced',\n",
       "   'img_url': 'https://astrogeology.usgs.gov/cache/images/f5e372a36edfa389625da6d0cc25d905_cerberus_enhanced.tif_full.jpg'},\n",
       "  {'title': 'Schiaparelli Hemisphere Enhanced',\n",
       "   'img_url': 'https://astrogeology.usgs.gov/cache/images/3778f7b43bbbc89d6e3cfabb3613ba93_schiaparelli_enhanced.tif_full.jpg'},\n",
       "  {'title': 'Syrtis Major Hemisphere Enhanced',\n",
       "   'img_url': 'https://astrogeology.usgs.gov/cache/images/555e6403a6ddd7ba16ddb0e471cadcf7_syrtis_major_enhanced.tif_full.jpg'},\n",
       "  {'title': 'Valles Marineris Hemisphere Enhanced',\n",
       "   'img_url': 'https://astrogeology.usgs.gov/cache/images/b3c7c6c9138f57b4756be9b9c43e3a48_valles_marineris_enhanced.tif_full.jpg'}]}"
      ]
     },
     "metadata": {},
     "execution_count": 96
    }
   ],
   "source": [
    "## NASA Mars News\n",
    "scrape_dict = {\"News Title\": news_title, \n",
    "            \"News Paragraph\": news_p,\n",
    "            \"Featured Image\": featured_image_url,\n",
    "            \"Mars Facts\": mars_facts,\n",
    "            \"Mars Hemishphere URLs\": hemisphere_image_urls}\n",
    "scrape_dict"
   ]
  }
 ]
}